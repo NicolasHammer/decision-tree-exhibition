{
 "metadata": {
  "language_info": {
   "codemirror_mode": {
    "name": "ipython",
    "version": 3
   },
   "file_extension": ".py",
   "mimetype": "text/x-python",
   "name": "python",
   "nbconvert_exporter": "python",
   "pygments_lexer": "ipython3",
   "version": "3.8.5-final"
  },
  "orig_nbformat": 2,
  "kernelspec": {
   "name": "python3",
   "display_name": "Python 3.8.5 64-bit",
   "metadata": {
    "interpreter": {
     "hash": "082e9a3bcad0a290d0001e938aa60b99250c6c2ef33a923c00b70f9826caf4b7"
    }
   }
  }
 },
 "nbformat": 4,
 "nbformat_minor": 2,
 "cells": [
  {
   "source": [
    "# Decision Tree Exhibition"
   ],
   "cell_type": "markdown",
   "metadata": {}
  },
  {
   "source": [
    "## Part 1: Decision Tree from Scratch"
   ],
   "cell_type": "markdown",
   "metadata": {}
  },
  {
   "cell_type": "code",
   "execution_count": 7,
   "metadata": {},
   "outputs": [],
   "source": [
    "# Step 0: Import the necessary functions\n",
    "from from_scratch.decision_tree import DecisionTree, information_gain\n",
    "from from_scratch.evaluation_metrics import f1_measure, precision_and_recall, confusion_matrix, accuracy\n",
    "from from_scratch.import_data import load_data, train_test_split"
   ]
  },
  {
   "cell_type": "code",
   "execution_count": 8,
   "metadata": {},
   "outputs": [],
   "source": [
    "# Step 1: Import diabetes.csv with load_data\n",
    "features, targets, attribute_names = load_data(\"diabetes.csv\")\n",
    "train_features, train_targets, test_features, test_targets = train_test_split(features, targets)"
   ]
  },
  {
   "cell_type": "code",
   "execution_count": 9,
   "metadata": {},
   "outputs": [],
   "source": [
    "# Step 2: Fit a decision tree to the training data\n",
    "learner = DecisionTree(attribute_names)\n",
    "learner.fit(train_features, train_targets)\n",
    "\n",
    "learner.visualize() # visualize tree"
   ]
  },
  {
   "cell_type": "code",
   "execution_count": 10,
   "metadata": {},
   "outputs": [],
   "source": [
    "# Step 3: Predict labels of testing set\n",
    "predictions = learner.predict(test_features)"
   ]
  },
  {
   "cell_type": "code",
   "execution_count": 11,
   "metadata": {},
   "outputs": [
    {
     "output_type": "stream",
     "name": "stdout",
     "text": [
      "Confusion Matrix:\n[[102   0]\n [ 52   0]]\n\nAccuracy: 0.6623376623376623\n\nPrecision: nan; Recall: 0.0\n\nF1_Measure: nan\n\n"
     ]
    }
   ],
   "source": [
    "# Step 4: Evaluate the decision tree's performance\n",
    "confusion_mat = confusion_matrix(test_targets, predictions)\n",
    "accuracy_num = accuracy(test_targets, predictions)\n",
    "precision, recall = precision_and_recall(test_targets, predictions)\n",
    "f1_measure_num = f1_measure(test_targets, predictions)\n",
    "\n",
    "print(f\"Confusion Matrix:\\n{confusion_mat}\\n\")\n",
    "print(f\"Accuracy: {accuracy_num}\\n\")\n",
    "print(f\"Precision: {precision}; Recall: {recall}\\n\")\n",
    "print(f\"F1_Measure: {f1_measure_num}\\n\")"
   ]
  },
  {
   "cell_type": "code",
   "execution_count": null,
   "metadata": {},
   "outputs": [],
   "source": []
  }
 ]
}