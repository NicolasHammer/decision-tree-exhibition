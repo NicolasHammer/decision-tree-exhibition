{
 "metadata": {
  "language_info": {
   "codemirror_mode": {
    "name": "ipython",
    "version": 3
   },
   "file_extension": ".py",
   "mimetype": "text/x-python",
   "name": "python",
   "nbconvert_exporter": "python",
   "pygments_lexer": "ipython3",
   "version": "3.8.5-final"
  },
  "orig_nbformat": 2,
  "kernelspec": {
   "name": "python3",
   "display_name": "Python 3.8.5 64-bit",
   "metadata": {
    "interpreter": {
     "hash": "082e9a3bcad0a290d0001e938aa60b99250c6c2ef33a923c00b70f9826caf4b7"
    }
   }
  }
 },
 "nbformat": 4,
 "nbformat_minor": 2,
 "cells": [
  {
   "source": [
    "# Decision Tree Exhibition"
   ],
   "cell_type": "markdown",
   "metadata": {}
  },
  {
   "source": [
    "## Part 1: Decision Tree from Scratch"
   ],
   "cell_type": "markdown",
   "metadata": {}
  },
  {
   "cell_type": "code",
   "execution_count": 2,
   "metadata": {},
   "outputs": [],
   "source": [
    "# Step 0: Import the necessary packages\n",
    "from from_scratch.decision_tree import DecisionTree, information_gain\n",
    "from from_scratch.evaluation_metrics import f1_measure, precision_and_recall, confusion_matrix, accuracy\n",
    "from from_scratch.import_data import load_data, train_test_split"
   ]
  },
  {
   "cell_type": "code",
   "execution_count": 3,
   "metadata": {},
   "outputs": [],
   "source": [
    "# Step 1: Import diabetes.csv with load_data\n",
    "features, targets, attribute_names = load_data(\"diabetes.csv\")\n",
    "train_features, train_targets, test_features, test_targets = train_test_split(features, targets, fraction = 0.85)"
   ]
  },
  {
   "cell_type": "code",
   "execution_count": 4,
   "metadata": {},
   "outputs": [
    {
     "output_type": "stream",
     "name": "stdout",
     "text": [
      "0: Glucose == 128.0\n1:  BMI == 26.5\n2:   Pregnancies == 8.0\n3:    DiabetesPedigreeFunction == 0.678\n4:     root == 0\n4:     Insulin == 59.0\n5:      Age == 28.0\n6:       root == 1\n6:       root == 0\n5:      root == 0\n3:    BloodPressure == 55.0\n4:     root == 1\n4:     Age == 54.0\n5:      root == 0\n5:      DiabetesPedigreeFunction == 0.409\n6:       SkinThickness == 0.0\n7:        root == 1\n7:        Insulin == 0.0\n8:         root == 1\n8:         root == 1\n6:       root == 0\n2:   Age == 29.0\n3:    SkinThickness == 10.0\n4:     BloodPressure == 80.0\n5:      DiabetesPedigreeFunction == 0.391\n6:       Pregnancies == 4.0\n7:        Insulin == 0.0\n8:         root == 1\n8:         root == 0\n7:        root == 0\n6:       root == 0\n5:      Pregnancies == 2.0\n6:       root == 0\n6:       root == 1\n4:     DiabetesPedigreeFunction == 0.496\n5:      BloodPressure == 85.0\n6:       Pregnancies == 3.0\n7:        root == 0\n7:        Insulin == 88.0\n8:         root == 0\n8:         root == 0\n6:       Insulin == 120.0\n7:        Pregnancies == 1.0\n8:         root == 1\n8:         root == 0\n7:        root == 1\n5:      BloodPressure == 70.0\n6:       Pregnancies == 4.0\n7:        Insulin == 160.0\n8:         root == 0\n8:         root == 1\n7:        root == 1\n6:       Pregnancies == 3.0\n7:        root == 0\n7:        Insulin == 152.0\n8:         root == 0\n8:         root == 0\n3:    DiabetesPedigreeFunction == 0.64\n4:     SkinThickness == 37.0\n5:      BloodPressure == 84.0\n6:       Insulin == 190.0\n7:        Pregnancies == 14.0\n8:         root == 0\n8:         root == 1\n7:        root == 0\n6:       Pregnancies == 13.0\n7:        Insulin == 145.0\n8:         root == 0\n8:         root == 1\n7:        root == 1\n5:      Insulin == 220.0\n6:       root == 0\n6:       root == 1\n4:     Pregnancies == 8.0\n5:      BloodPressure == 88.0\n6:       SkinThickness == 48.0\n7:        Insulin == 122.0\n8:         root == 0\n8:         root == 1\n7:        root == 0\n6:       root == 0\n5:      root == 1\n1:  BMI == 30.0\n2:   Age == 61.0\n3:    Pregnancies == 2.0\n4:     BloodPressure == 74.0\n5:      root == 0\n5:      SkinThickness == 22.0\n6:       root == 1\n6:       root == 0\n4:     BloodPressure == 74.0\n5:      SkinThickness == 35.0\n6:       DiabetesPedigreeFunction == 0.326\n7:        Insulin == 145.0\n8:         root == 1\n8:         root == 1\n7:        root == 1\n6:       root == 0\n5:      DiabetesPedigreeFunction == 0.167\n6:       root == 1\n6:       SkinThickness == 33.0\n7:        Insulin == 64.0\n8:         root == 0\n8:         root == 0\n7:        Insulin == 29.0\n8:         root == 0\n8:         root == 1\n3:    root == 0\n2:   Pregnancies == 8.0\n3:    BloodPressure == 62.0\n4:     Age == 41.0\n5:      root == 1\n5:      SkinThickness == 23.0\n6:       DiabetesPedigreeFunction == 0.304\n7:        root == 1\n7:        root == 0\n6:       root == 1\n4:     Insulin == 194.0\n5:      DiabetesPedigreeFunction == 0.196\n6:       SkinThickness == 21.0\n7:        Age == 52.0\n8:         root == 0\n8:         root == 1\n7:        root == 0\n6:       SkinThickness == 49.0\n7:        Age == 66.0\n8:         root == 1\n8:         root == 1\n7:        root == 1\n5:      Age == 28.0\n6:       DiabetesPedigreeFunction == 2.137\n7:        SkinThickness == 33.0\n8:         root == 0\n8:         root == 0\n7:        root == 1\n6:       DiabetesPedigreeFunction == 1.159\n7:        SkinThickness == 45.0\n8:         root == 1\n8:         root == 1\n7:        root == 0\n3:    BloodPressure == 76.0\n4:     root == 1\n4:     Insulin == 150.0\n5:      SkinThickness == 30.0\n6:       Age == 43.0\n7:        DiabetesPedigreeFunction == 0.831\n8:         root == 0\n8:         root == 1\n7:        root == 1\n6:       DiabetesPedigreeFunction == 0.637\n7:        root == 0\n7:        Age == 40.0\n8:         root == 0\n8:         root == 1\n5:      root == 1\n"
     ]
    }
   ],
   "source": [
    "# Step 2: Fit a decision tree to the training data\n",
    "learner = DecisionTree(attribute_names)\n",
    "learner.fit(train_features, train_targets)\n",
    "\n",
    "learner.visualize() # visualize tree"
   ]
  },
  {
   "cell_type": "code",
   "execution_count": 5,
   "metadata": {},
   "outputs": [
    {
     "output_type": "stream",
     "name": "stdout",
     "text": [
      "Confusion Matrix:\n[[56 14]\n [25 21]]\n\nAccuracy: 0.6637931034482759\n\nPrecision: 0.6; Recall: 0.45652173913043476\n\nF1_Measure: 0.5185185185185185\n\n"
     ]
    }
   ],
   "source": [
    "# Step 3: Predict labels of testing set and evaluate the decision tree's performance\n",
    "predictions = learner.predict(test_features)\n",
    "\n",
    "confusion_mat = confusion_matrix(test_targets, predictions)\n",
    "accuracy_num = accuracy(test_targets, predictions)\n",
    "precision, recall = precision_and_recall(test_targets, predictions)\n",
    "f1_measure_num = f1_measure(test_targets, predictions)\n",
    "\n",
    "print(f\"Confusion Matrix:\\n{confusion_mat}\\n\")\n",
    "print(f\"Accuracy: {accuracy_num}\\n\")\n",
    "print(f\"Precision: {precision}; Recall: {recall}\\n\")\n",
    "print(f\"F1_Measure: {f1_measure_num}\\n\")"
   ]
  },
  {
   "source": [
    "## Part 2: Decision Tree with scikit-learn\n"
   ],
   "cell_type": "markdown",
   "metadata": {}
  },
  {
   "cell_type": "code",
   "execution_count": 6,
   "metadata": {},
   "outputs": [],
   "source": [
    "# Step 0: Import the necessary packages\n",
    "## For preparing the data and fitting the decision tree\n",
    "import pandas as pd\n",
    "import sklearn.tree\n",
    "from sklearn import metrics\n",
    "from sklearn.model_selection import train_test_split\n",
    "from sklearn.tree import DecisionTreeClassifier, export_text"
   ]
  },
  {
   "cell_type": "code",
   "execution_count": 7,
   "metadata": {},
   "outputs": [],
   "source": [
    "# Step 1: Import and wrangle diabetes.csv\n",
    "pima = pd.read_csv(\"diabetes.csv\", header = 0)\n",
    "X = pima[[\"Pregnancies\", \"Glucose\", \"BloodPressure\", \"SkinThickness\", \"Insulin\", \"BMI\", \"DiabetesPedigreeFunction\", \"Age\"]]\n",
    "y = pima[\"Outcome\"]\n",
    "\n",
    "X_train, X_test, y_train, y_test = train_test_split(X, y, test_size = 0.15, random_state = 1)"
   ]
  },
  {
   "cell_type": "code",
   "execution_count": 8,
   "metadata": {},
   "outputs": [
    {
     "output_type": "stream",
     "name": "stdout",
     "text": [
      "|--- Glucose <= 127.50\n|   |--- BMI <= 26.45\n|   |   |--- BMI <= 9.10\n|   |   |   |--- Glucose <= 114.50\n|   |   |   |   |--- class: 0\n|   |   |   |--- Glucose >  114.50\n|   |   |   |   |--- class: 1\n|   |   |--- BMI >  9.10\n|   |   |   |--- DiabetesPedigreeFunction <= 0.67\n|   |   |   |   |--- class: 0\n|   |   |   |--- DiabetesPedigreeFunction >  0.67\n|   |   |   |   |--- DiabetesPedigreeFunction <= 0.71\n|   |   |   |   |   |--- class: 1\n|   |   |   |   |--- DiabetesPedigreeFunction >  0.71\n|   |   |   |   |   |--- class: 0\n|   |--- BMI >  26.45\n|   |   |--- Age <= 28.50\n|   |   |   |--- BMI <= 30.95\n|   |   |   |   |--- Pregnancies <= 7.00\n|   |   |   |   |   |--- class: 0\n|   |   |   |   |--- Pregnancies >  7.00\n|   |   |   |   |   |--- class: 1\n|   |   |   |--- BMI >  30.95\n|   |   |   |   |--- BloodPressure <= 51.00\n|   |   |   |   |   |--- BMI <= 34.40\n|   |   |   |   |   |   |--- class: 1\n|   |   |   |   |   |--- BMI >  34.40\n|   |   |   |   |   |   |--- BMI <= 48.55\n|   |   |   |   |   |   |   |--- class: 0\n|   |   |   |   |   |   |--- BMI >  48.55\n|   |   |   |   |   |   |   |--- class: 1\n|   |   |   |   |--- BloodPressure >  51.00\n|   |   |   |   |   |--- DiabetesPedigreeFunction <= 0.50\n|   |   |   |   |   |   |--- BMI <= 45.35\n|   |   |   |   |   |   |   |--- Insulin <= 36.50\n|   |   |   |   |   |   |   |   |--- Glucose <= 111.50\n|   |   |   |   |   |   |   |   |   |--- Insulin <= 34.00\n|   |   |   |   |   |   |   |   |   |   |--- class: 0\n|   |   |   |   |   |   |   |   |   |--- Insulin >  34.00\n|   |   |   |   |   |   |   |   |   |   |--- class: 1\n|   |   |   |   |   |   |   |   |--- Glucose >  111.50\n|   |   |   |   |   |   |   |   |   |--- Glucose <= 121.50\n|   |   |   |   |   |   |   |   |   |   |--- Age <= 22.00\n|   |   |   |   |   |   |   |   |   |   |   |--- class: 0\n|   |   |   |   |   |   |   |   |   |   |--- Age >  22.00\n|   |   |   |   |   |   |   |   |   |   |   |--- class: 1\n|   |   |   |   |   |   |   |   |   |--- Glucose >  121.50\n|   |   |   |   |   |   |   |   |   |   |--- class: 0\n|   |   |   |   |   |   |   |--- Insulin >  36.50\n|   |   |   |   |   |   |   |   |--- class: 0\n|   |   |   |   |   |   |--- BMI >  45.35\n|   |   |   |   |   |   |   |--- class: 1\n|   |   |   |   |   |--- DiabetesPedigreeFunction >  0.50\n|   |   |   |   |   |   |--- BMI <= 38.65\n|   |   |   |   |   |   |   |--- BloodPressure <= 61.00\n|   |   |   |   |   |   |   |   |--- class: 0\n|   |   |   |   |   |   |   |--- BloodPressure >  61.00\n|   |   |   |   |   |   |   |   |--- DiabetesPedigreeFunction <= 0.54\n|   |   |   |   |   |   |   |   |   |--- class: 1\n|   |   |   |   |   |   |   |   |--- DiabetesPedigreeFunction >  0.54\n|   |   |   |   |   |   |   |   |   |--- DiabetesPedigreeFunction <= 0.65\n|   |   |   |   |   |   |   |   |   |   |--- class: 0\n|   |   |   |   |   |   |   |   |   |--- DiabetesPedigreeFunction >  0.65\n|   |   |   |   |   |   |   |   |   |   |--- BloodPressure <= 73.00\n|   |   |   |   |   |   |   |   |   |   |   |--- class: 1\n|   |   |   |   |   |   |   |   |   |   |--- BloodPressure >  73.00\n|   |   |   |   |   |   |   |   |   |   |   |--- truncated branch of depth 2\n|   |   |   |   |   |   |--- BMI >  38.65\n|   |   |   |   |   |   |   |--- class: 0\n|   |   |--- Age >  28.50\n|   |   |   |--- Glucose <= 89.50\n|   |   |   |   |--- Pregnancies <= 11.50\n|   |   |   |   |   |--- class: 0\n|   |   |   |   |--- Pregnancies >  11.50\n|   |   |   |   |   |--- Pregnancies <= 12.50\n|   |   |   |   |   |   |--- class: 1\n|   |   |   |   |   |--- Pregnancies >  12.50\n|   |   |   |   |   |   |--- class: 0\n|   |   |   |--- Glucose >  89.50\n|   |   |   |   |--- DiabetesPedigreeFunction <= 0.18\n|   |   |   |   |   |--- class: 0\n|   |   |   |   |--- DiabetesPedigreeFunction >  0.18\n|   |   |   |   |   |--- DiabetesPedigreeFunction <= 0.62\n|   |   |   |   |   |   |--- Age <= 53.50\n|   |   |   |   |   |   |   |--- SkinThickness <= 27.50\n|   |   |   |   |   |   |   |   |--- BloodPressure <= 83.00\n|   |   |   |   |   |   |   |   |   |--- DiabetesPedigreeFunction <= 0.49\n|   |   |   |   |   |   |   |   |   |   |--- Glucose <= 123.50\n|   |   |   |   |   |   |   |   |   |   |   |--- truncated branch of depth 7\n|   |   |   |   |   |   |   |   |   |   |--- Glucose >  123.50\n|   |   |   |   |   |   |   |   |   |   |   |--- class: 1\n|   |   |   |   |   |   |   |   |   |--- DiabetesPedigreeFunction >  0.49\n|   |   |   |   |   |   |   |   |   |   |--- class: 0\n|   |   |   |   |   |   |   |   |--- BloodPressure >  83.00\n|   |   |   |   |   |   |   |   |   |--- DiabetesPedigreeFunction <= 0.40\n|   |   |   |   |   |   |   |   |   |   |--- class: 0\n|   |   |   |   |   |   |   |   |   |--- DiabetesPedigreeFunction >  0.40\n|   |   |   |   |   |   |   |   |   |   |--- BMI <= 31.45\n|   |   |   |   |   |   |   |   |   |   |   |--- class: 0\n|   |   |   |   |   |   |   |   |   |   |--- BMI >  31.45\n|   |   |   |   |   |   |   |   |   |   |   |--- class: 1\n|   |   |   |   |   |   |   |--- SkinThickness >  27.50\n|   |   |   |   |   |   |   |   |--- BloodPressure <= 89.00\n|   |   |   |   |   |   |   |   |   |--- SkinThickness <= 32.50\n|   |   |   |   |   |   |   |   |   |   |--- SkinThickness <= 31.50\n|   |   |   |   |   |   |   |   |   |   |   |--- truncated branch of depth 4\n|   |   |   |   |   |   |   |   |   |   |--- SkinThickness >  31.50\n|   |   |   |   |   |   |   |   |   |   |   |--- class: 1\n|   |   |   |   |   |   |   |   |   |--- SkinThickness >  32.50\n|   |   |   |   |   |   |   |   |   |   |--- BloodPressure <= 65.00\n|   |   |   |   |   |   |   |   |   |   |   |--- truncated branch of depth 2\n|   |   |   |   |   |   |   |   |   |   |--- BloodPressure >  65.00\n|   |   |   |   |   |   |   |   |   |   |   |--- class: 0\n|   |   |   |   |   |   |   |   |--- BloodPressure >  89.00\n|   |   |   |   |   |   |   |   |   |--- class: 1\n|   |   |   |   |   |   |--- Age >  53.50\n|   |   |   |   |   |   |   |--- class: 0\n|   |   |   |   |   |--- DiabetesPedigreeFunction >  0.62\n|   |   |   |   |   |   |--- Pregnancies <= 7.50\n|   |   |   |   |   |   |   |--- Age <= 30.50\n|   |   |   |   |   |   |   |   |--- class: 1\n|   |   |   |   |   |   |   |--- Age >  30.50\n|   |   |   |   |   |   |   |   |--- BMI <= 28.75\n|   |   |   |   |   |   |   |   |   |--- class: 1\n|   |   |   |   |   |   |   |   |--- BMI >  28.75\n|   |   |   |   |   |   |   |   |   |--- SkinThickness <= 9.00\n|   |   |   |   |   |   |   |   |   |   |--- class: 0\n|   |   |   |   |   |   |   |   |   |--- SkinThickness >  9.00\n|   |   |   |   |   |   |   |   |   |   |--- Insulin <= 33.50\n|   |   |   |   |   |   |   |   |   |   |   |--- class: 1\n|   |   |   |   |   |   |   |   |   |   |--- Insulin >  33.50\n|   |   |   |   |   |   |   |   |   |   |   |--- truncated branch of depth 4\n|   |   |   |   |   |   |--- Pregnancies >  7.50\n|   |   |   |   |   |   |   |--- class: 1\n|--- Glucose >  127.50\n|   |--- BMI <= 29.95\n|   |   |--- Glucose <= 145.50\n|   |   |   |--- Pregnancies <= 1.50\n|   |   |   |   |--- class: 0\n|   |   |   |--- Pregnancies >  1.50\n|   |   |   |   |--- BMI <= 23.45\n|   |   |   |   |   |--- class: 0\n|   |   |   |   |--- BMI >  23.45\n|   |   |   |   |   |--- Glucose <= 140.00\n|   |   |   |   |   |   |--- DiabetesPedigreeFunction <= 0.21\n|   |   |   |   |   |   |   |--- class: 0\n|   |   |   |   |   |   |--- DiabetesPedigreeFunction >  0.21\n|   |   |   |   |   |   |   |--- BMI <= 26.70\n|   |   |   |   |   |   |   |   |--- class: 1\n|   |   |   |   |   |   |   |--- BMI >  26.70\n|   |   |   |   |   |   |   |   |--- BMI <= 28.15\n|   |   |   |   |   |   |   |   |   |--- class: 0\n|   |   |   |   |   |   |   |   |--- BMI >  28.15\n|   |   |   |   |   |   |   |   |   |--- BloodPressure <= 67.00\n|   |   |   |   |   |   |   |   |   |   |--- class: 0\n|   |   |   |   |   |   |   |   |   |--- BloodPressure >  67.00\n|   |   |   |   |   |   |   |   |   |   |--- class: 1\n|   |   |   |   |   |--- Glucose >  140.00\n|   |   |   |   |   |   |--- class: 0\n|   |   |--- Glucose >  145.50\n|   |   |   |--- Age <= 61.00\n|   |   |   |   |--- Age <= 25.50\n|   |   |   |   |   |--- class: 0\n|   |   |   |   |--- Age >  25.50\n|   |   |   |   |   |--- Glucose <= 164.00\n|   |   |   |   |   |   |--- BMI <= 29.60\n|   |   |   |   |   |   |   |--- Glucose <= 149.50\n|   |   |   |   |   |   |   |   |--- class: 1\n|   |   |   |   |   |   |   |--- Glucose >  149.50\n|   |   |   |   |   |   |   |   |--- BMI <= 27.10\n|   |   |   |   |   |   |   |   |   |--- BMI <= 22.65\n|   |   |   |   |   |   |   |   |   |   |--- class: 0\n|   |   |   |   |   |   |   |   |   |--- BMI >  22.65\n|   |   |   |   |   |   |   |   |   |   |--- class: 1\n|   |   |   |   |   |   |   |   |--- BMI >  27.10\n|   |   |   |   |   |   |   |   |   |--- class: 0\n|   |   |   |   |   |   |--- BMI >  29.60\n|   |   |   |   |   |   |   |--- class: 0\n|   |   |   |   |   |--- Glucose >  164.00\n|   |   |   |   |   |   |--- class: 1\n|   |   |   |--- Age >  61.00\n|   |   |   |   |--- class: 0\n|   |--- BMI >  29.95\n|   |   |--- Glucose <= 154.50\n|   |   |   |--- Glucose <= 152.50\n|   |   |   |   |--- BloodPressure <= 89.00\n|   |   |   |   |   |--- BloodPressure <= 61.00\n|   |   |   |   |   |   |--- Age <= 40.50\n|   |   |   |   |   |   |   |--- class: 1\n|   |   |   |   |   |   |--- Age >  40.50\n|   |   |   |   |   |   |   |--- DiabetesPedigreeFunction <= 0.44\n|   |   |   |   |   |   |   |   |--- class: 0\n|   |   |   |   |   |   |   |--- DiabetesPedigreeFunction >  0.44\n|   |   |   |   |   |   |   |   |--- class: 1\n|   |   |   |   |   |--- BloodPressure >  61.00\n|   |   |   |   |   |   |--- Age <= 30.50\n|   |   |   |   |   |   |   |--- Insulin <= 260.00\n|   |   |   |   |   |   |   |   |--- BMI <= 41.80\n|   |   |   |   |   |   |   |   |   |--- DiabetesPedigreeFunction <= 1.25\n|   |   |   |   |   |   |   |   |   |   |--- Pregnancies <= 4.50\n|   |   |   |   |   |   |   |   |   |   |   |--- truncated branch of depth 3\n|   |   |   |   |   |   |   |   |   |   |--- Pregnancies >  4.50\n|   |   |   |   |   |   |   |   |   |   |   |--- truncated branch of depth 2\n|   |   |   |   |   |   |   |   |   |--- DiabetesPedigreeFunction >  1.25\n|   |   |   |   |   |   |   |   |   |   |--- class: 1\n|   |   |   |   |   |   |   |   |--- BMI >  41.80\n|   |   |   |   |   |   |   |   |   |--- Glucose <= 144.50\n|   |   |   |   |   |   |   |   |   |   |--- class: 1\n|   |   |   |   |   |   |   |   |   |--- Glucose >  144.50\n|   |   |   |   |   |   |   |   |   |   |--- class: 0\n|   |   |   |   |   |   |   |--- Insulin >  260.00\n|   |   |   |   |   |   |   |   |--- class: 0\n|   |   |   |   |   |   |--- Age >  30.50\n|   |   |   |   |   |   |   |--- SkinThickness <= 28.50\n|   |   |   |   |   |   |   |   |--- BMI <= 39.80\n|   |   |   |   |   |   |   |   |   |--- DiabetesPedigreeFunction <= 0.44\n|   |   |   |   |   |   |   |   |   |   |--- Age <= 40.50\n|   |   |   |   |   |   |   |   |   |   |   |--- class: 0\n|   |   |   |   |   |   |   |   |   |   |--- Age >  40.50\n|   |   |   |   |   |   |   |   |   |   |   |--- truncated branch of depth 2\n|   |   |   |   |   |   |   |   |   |--- DiabetesPedigreeFunction >  0.44\n|   |   |   |   |   |   |   |   |   |   |--- class: 1\n|   |   |   |   |   |   |   |   |--- BMI >  39.80\n|   |   |   |   |   |   |   |   |   |--- class: 0\n|   |   |   |   |   |   |   |--- SkinThickness >  28.50\n|   |   |   |   |   |   |   |   |--- Insulin <= 333.50\n|   |   |   |   |   |   |   |   |   |--- class: 1\n|   |   |   |   |   |   |   |   |--- Insulin >  333.50\n|   |   |   |   |   |   |   |   |   |--- Insulin <= 356.00\n|   |   |   |   |   |   |   |   |   |   |--- class: 0\n|   |   |   |   |   |   |   |   |   |--- Insulin >  356.00\n|   |   |   |   |   |   |   |   |   |   |--- class: 1\n|   |   |   |   |--- BloodPressure >  89.00\n|   |   |   |   |   |--- class: 1\n|   |   |   |--- Glucose >  152.50\n|   |   |   |   |--- class: 0\n|   |   |--- Glucose >  154.50\n|   |   |   |--- Insulin <= 629.50\n|   |   |   |   |--- DiabetesPedigreeFunction <= 0.34\n|   |   |   |   |   |--- BMI <= 35.30\n|   |   |   |   |   |   |--- Age <= 48.50\n|   |   |   |   |   |   |   |--- Age <= 37.50\n|   |   |   |   |   |   |   |   |--- BloodPressure <= 69.00\n|   |   |   |   |   |   |   |   |   |--- class: 0\n|   |   |   |   |   |   |   |   |--- BloodPressure >  69.00\n|   |   |   |   |   |   |   |   |   |--- BMI <= 34.20\n|   |   |   |   |   |   |   |   |   |   |--- class: 1\n|   |   |   |   |   |   |   |   |   |--- BMI >  34.20\n|   |   |   |   |   |   |   |   |   |   |--- class: 0\n|   |   |   |   |   |   |   |--- Age >  37.50\n|   |   |   |   |   |   |   |   |--- class: 1\n|   |   |   |   |   |   |--- Age >  48.50\n|   |   |   |   |   |   |   |--- class: 0\n|   |   |   |   |   |--- BMI >  35.30\n|   |   |   |   |   |   |--- DiabetesPedigreeFunction <= 0.14\n|   |   |   |   |   |   |   |--- Pregnancies <= 1.50\n|   |   |   |   |   |   |   |   |--- class: 1\n|   |   |   |   |   |   |   |--- Pregnancies >  1.50\n|   |   |   |   |   |   |   |   |--- class: 0\n|   |   |   |   |   |   |--- DiabetesPedigreeFunction >  0.14\n|   |   |   |   |   |   |   |--- class: 1\n|   |   |   |   |--- DiabetesPedigreeFunction >  0.34\n|   |   |   |   |   |--- Age <= 44.00\n|   |   |   |   |   |   |--- class: 1\n|   |   |   |   |   |--- Age >  44.00\n|   |   |   |   |   |   |--- Pregnancies <= 6.50\n|   |   |   |   |   |   |   |--- Pregnancies <= 5.50\n|   |   |   |   |   |   |   |   |--- BMI <= 45.05\n|   |   |   |   |   |   |   |   |   |--- class: 1\n|   |   |   |   |   |   |   |   |--- BMI >  45.05\n|   |   |   |   |   |   |   |   |   |--- class: 0\n|   |   |   |   |   |   |   |--- Pregnancies >  5.50\n|   |   |   |   |   |   |   |   |--- class: 0\n|   |   |   |   |   |   |--- Pregnancies >  6.50\n|   |   |   |   |   |   |   |--- class: 1\n|   |   |   |--- Insulin >  629.50\n|   |   |   |   |--- DiabetesPedigreeFunction <= 0.41\n|   |   |   |   |   |--- class: 1\n|   |   |   |   |--- DiabetesPedigreeFunction >  0.41\n|   |   |   |   |   |--- class: 0\n\n"
     ]
    }
   ],
   "source": [
    "# Step 2: Fit decision tree classifier\n",
    "clf = DecisionTreeClassifier(criterion=\"entropy\")\n",
    "clf = clf.fit(X_train, y_train)\n",
    "\n",
    "print(export_text(clf, feature_names = [\"Pregnancies\", \"Glucose\", \"BloodPressure\", \"SkinThickness\", \"Insulin\", \"BMI\", \"DiabetesPedigreeFunction\", \"Age\"])) # Visualize tree"
   ]
  },
  {
   "cell_type": "code",
   "execution_count": 9,
   "metadata": {},
   "outputs": [
    {
     "output_type": "stream",
     "name": "stdout",
     "text": [
      "Confusion Matrix:\n[[54 21]\n [19 22]]\n\nAccuracy: 0.6551724137931034\n\nPrecision: [0.73972603 0.51162791]; Recall: [0.72       0.53658537]\n\nF1_Measure: [0.72972973 0.52380952]\n\n"
     ]
    }
   ],
   "source": [
    "# Step 3: Predict labels of testing set and evaluate the decision tree's performance\n",
    "y_predictions = clf.predict(X_test)\n",
    "\n",
    "confusion_mat2 = metrics.confusion_matrix(y_test, y_predictions)\n",
    "accuracy_num2 = metrics.accuracy_score(y_test, y_predictions)\n",
    "precision2, recall2, f1_measure_num2, _ = metrics.precision_recall_fscore_support(y_test, y_predictions)\n",
    "\n",
    "print(f\"Confusion Matrix:\\n{confusion_mat2}\\n\")\n",
    "print(f\"Accuracy: {accuracy_num2}\\n\")\n",
    "print(f\"Precision: {precision2}; Recall: {recall2}\\n\")\n",
    "print(f\"F1_Measure: {f1_measure_num2}\\n\")"
   ]
  },
  {
   "cell_type": "code",
   "execution_count": null,
   "metadata": {},
   "outputs": [],
   "source": []
  }
 ]
}