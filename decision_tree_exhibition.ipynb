{
 "metadata": {
  "language_info": {
   "codemirror_mode": {
    "name": "ipython",
    "version": 3
   },
   "file_extension": ".py",
   "mimetype": "text/x-python",
   "name": "python",
   "nbconvert_exporter": "python",
   "pygments_lexer": "ipython3",
   "version": "3.8.5-final"
  },
  "orig_nbformat": 2,
  "kernelspec": {
   "name": "python3",
   "display_name": "Python 3.8.5 64-bit",
   "metadata": {
    "interpreter": {
     "hash": "082e9a3bcad0a290d0001e938aa60b99250c6c2ef33a923c00b70f9826caf4b7"
    }
   }
  }
 },
 "nbformat": 4,
 "nbformat_minor": 2,
 "cells": [
  {
   "source": [
    "# Decision Tree Exhibition"
   ],
   "cell_type": "markdown",
   "metadata": {}
  },
  {
   "source": [
    "## Part 1: Decision Tree from Scratch"
   ],
   "cell_type": "markdown",
   "metadata": {}
  },
  {
   "cell_type": "code",
   "execution_count": null,
   "metadata": {},
   "outputs": [],
   "source": [
    "# Step 0: Import the necessary packages\n",
    "from from_scratch.decision_tree import DecisionTree, information_gain\n",
    "from from_scratch.evaluation_metrics import f1_measure, precision_and_recall, confusion_matrix, accuracy\n",
    "from from_scratch.import_data import load_data, train_test_split"
   ]
  },
  {
   "cell_type": "code",
   "execution_count": null,
   "metadata": {},
   "outputs": [],
   "source": [
    "# Step 1: Import diabetes.csv with load_data\n",
    "features, targets, attribute_names = load_data(\"diabetes.csv\")\n",
    "train_features, train_targets, test_features, test_targets = train_test_split(features, targets, fraction = 0.85)"
   ]
  },
  {
   "cell_type": "code",
   "execution_count": null,
   "metadata": {},
   "outputs": [],
   "source": [
    "# Step 2: Fit a decision tree to the training data\n",
    "learner = DecisionTree(attribute_names)\n",
    "learner.fit(train_features, train_targets)\n",
    "\n",
    "learner.visualize() # visualize tree"
   ]
  },
  {
   "cell_type": "code",
   "execution_count": null,
   "metadata": {},
   "outputs": [],
   "source": [
    "# Step 3: Predict labels of testing set and evaluate the decision tree's performance\n",
    "predictions = learner.predict(test_features)\n",
    "\n",
    "confusion_mat = confusion_matrix(test_targets, predictions)\n",
    "accuracy_num = accuracy(test_targets, predictions)\n",
    "precision, recall = precision_and_recall(test_targets, predictions)\n",
    "f1_measure_num = f1_measure(test_targets, predictions)\n",
    "\n",
    "print(f\"Confusion Matrix:\\n{confusion_mat}\\n\")\n",
    "print(f\"Accuracy: {accuracy_num}\\n\")\n",
    "print(f\"Precision: {precision}; Recall: {recall}\\n\")\n",
    "print(f\"F1_Measure: {f1_measure_num}\\n\")"
   ]
  },
  {
   "source": [
    "## Part 2: Decision Tree with scikit-learn\n"
   ],
   "cell_type": "markdown",
   "metadata": {}
  },
  {
   "cell_type": "code",
   "execution_count": null,
   "metadata": {},
   "outputs": [],
   "source": [
    "# Step 0: Import the necessary packages\n",
    "## For preparing the data and fitting the decision tree\n",
    "import pandas as pd\n",
    "import sklearn.tree\n",
    "from sklearn.metrics import confusion_matrix, accuracy_score, precision_recall_fscore_support\n",
    "from sklearn.model_selection import train_test_split\n",
    "from sklearn.tree import DecisionTreeClassifier, export_text"
   ]
  },
  {
   "cell_type": "code",
   "execution_count": null,
   "metadata": {},
   "outputs": [],
   "source": [
    "# Step 1: Import and wrangle diabetes.csv\n",
    "pima = pd.read_csv(\"diabetes.csv\", header = 0)\n",
    "X = pima[[\"Pregnancies\", \"Glucose\", \"BloodPressure\", \"SkinThickness\", \"Insulin\", \"BMI\", \"DiabetesPedigreeFunction\", \"Age\"]]\n",
    "y = pima[\"Outcome\"]\n",
    "\n",
    "X_train, X_test, y_train, y_test = train_test_split(X, y, test_size = 0.15, random_state = 1)"
   ]
  },
  {
   "cell_type": "code",
   "execution_count": null,
   "metadata": {},
   "outputs": [],
   "source": [
    "# Step 2: Fit decision tree classifier\n",
    "clf = DecisionTreeClassifier(criterion=\"entropy\")\n",
    "clf = clf.fit(X_train, y_train)\n",
    "\n",
    "print(export_text(clf, feature_names = [\"Pregnancies\", \"Glucose\", \"BloodPressure\", \"SkinThickness\", \"Insulin\", \"BMI\", \"DiabetesPedigreeFunction\", \"Age\"])) # Visualize tree"
   ]
  },
  {
   "cell_type": "code",
   "execution_count": null,
   "metadata": {},
   "outputs": [],
   "source": [
    "# Step 3: Predict labels of testing set and evaluate the decision tree's performance\n",
    "y_predictions = clf.predict(X_test)\n",
    "\n",
    "confusion_matrix"
   ]
  }
 ]
}