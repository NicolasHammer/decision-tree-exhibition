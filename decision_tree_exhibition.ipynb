{
 "metadata": {
  "language_info": {
   "codemirror_mode": {
    "name": "ipython",
    "version": 3
   },
   "file_extension": ".py",
   "mimetype": "text/x-python",
   "name": "python",
   "nbconvert_exporter": "python",
   "pygments_lexer": "ipython3",
   "version": "3.8.5-final"
  },
  "orig_nbformat": 2,
  "kernelspec": {
   "name": "python3",
   "display_name": "Python 3.8.5 64-bit",
   "metadata": {
    "interpreter": {
     "hash": "082e9a3bcad0a290d0001e938aa60b99250c6c2ef33a923c00b70f9826caf4b7"
    }
   }
  }
 },
 "nbformat": 4,
 "nbformat_minor": 2,
 "cells": [
  {
   "source": [
    "# Decision Tree Exhibition"
   ],
   "cell_type": "markdown",
   "metadata": {}
  },
  {
   "source": [
    "## Part 1: Decision Tree from Scratch"
   ],
   "cell_type": "markdown",
   "metadata": {}
  },
  {
   "cell_type": "code",
   "execution_count": 1,
   "metadata": {},
   "outputs": [],
   "source": [
    "# Step 0: Import the necessary functions\n",
    "from from_scratch.decision_tree import DecisionTree, information_gain\n",
    "from from_scratch.evaluation_metrics import f1_measure, precision_and_recall, confusion_matrix, accuracy\n",
    "from from_scratch.import_data import load_data, train_test_split"
   ]
  },
  {
   "cell_type": "code",
   "execution_count": 2,
   "metadata": {},
   "outputs": [],
   "source": [
    "# Step 1: Import diabetes.csv with load_data\n",
    "features, targets, attribute_names = load_data(\"diabetes.csv\")\n",
    "train_features, train_targets, test_features, test_targets = train_test_split(features, targets, fraction = 0.85)"
   ]
  },
  {
   "cell_type": "code",
   "execution_count": 3,
   "metadata": {},
   "outputs": [
    {
     "output_type": "stream",
     "name": "stdout",
     "text": [
      "0: Glucose == 124.0\n1:  Age == 29.0\n2:   BMI == 31.0\n3:    Pregnancies == 8.0\n4:     DiabetesPedigreeFunction == 0.678\n5:      root == 0\n5:      SkinThickness == 14.0\n6:       Insulin == 182.0\n7:        root == 1\n7:        root == 0\n6:       root == 0\n4:     root == 1\n3:    DiabetesPedigreeFunction == 0.496\n4:     SkinThickness == 16.0\n5:      Pregnancies == 5.0\n6:       BloodPressure == 60.0\n7:        root == 1\n7:        Insulin == 0.0\n8:         root == 1\n8:         root == 0\n6:       root == 1\n5:      BloodPressure == 58.0\n6:       Pregnancies == 3.0\n7:        root == 0\n7:        root == 1\n6:       root == 0\n4:     BloodPressure == 70.0\n5:      SkinThickness == 30.0\n6:       Insulin == 90.0\n7:        root == 0\n7:        Pregnancies == 2.0\n8:         root == 0\n8:         root == 1\n6:       Pregnancies == 4.0\n7:        Insulin == 48.0\n8:         root == 1\n8:         root == 0\n7:        root == 1\n5:      SkinThickness == 18.0\n6:       Pregnancies == 3.0\n7:        Insulin == 0.0\n8:         root == 1\n8:         root == 0\n7:        root == 0\n6:       root == 0\n2:   BMI == 26.5\n3:    BloodPressure == 55.0\n4:     Pregnancies == 10.0\n5:      root == 0\n5:      root == 1\n4:     root == 0\n3:    Insulin == 145.0\n4:     DiabetesPedigreeFunction == 1.114\n5:      BloodPressure == 86.0\n6:       SkinThickness == 43.0\n7:        Pregnancies == 6.0\n8:         root == 0\n8:         root == 0\n7:        root == 0\n6:       Pregnancies == 8.0\n7:        root == 0\n7:        SkinThickness == 36.0\n8:         root == 0\n8:         root == 1\n5:      Pregnancies == 5.0\n6:       root == 0\n6:       root == 1\n4:     DiabetesPedigreeFunction == 0.551\n5:      BloodPressure == 82.0\n6:       Pregnancies == 14.0\n7:        root == 0\n7:        root == 1\n6:       root == 1\n5:      root == 1\n1:  BMI == 30.0\n2:   Age == 27.0\n3:    Pregnancies == 3.0\n4:     root == 0\n4:     BloodPressure == 64.0\n5:      root == 1\n5:      root == 0\n3:    BloodPressure == 50.0\n4:     root == 1\n4:     Insulin == 360.0\n5:      SkinThickness == 14.0\n6:       Pregnancies == 6.0\n7:        DiabetesPedigreeFunction == 0.277\n8:         root == 0\n8:         root == 0\n7:        DiabetesPedigreeFunction == 1.441\n8:         root == 1\n8:         root == 0\n6:       Pregnancies == 4.0\n7:        root == 1\n7:        DiabetesPedigreeFunction == 1.144\n8:         root == 0\n8:         root == 1\n5:      root == 1\n2:   DiabetesPedigreeFunction == 0.314\n3:    Age == 41.0\n4:     Insulin == 122.0\n5:      SkinThickness == 30.0\n6:       BloodPressure == 58.0\n7:        root == 1\n7:        Pregnancies == 5.0\n8:         root == 0\n8:         root == 1\n6:       root == 1\n5:      SkinThickness == 39.0\n6:       root == 0\n6:       Pregnancies == 4.0\n7:        BloodPressure == 88.0\n8:         root == 0\n8:         root == 0\n7:        root == 1\n4:     Insulin == 115.0\n5:      SkinThickness == 30.0\n6:       Pregnancies == 6.0\n7:        BloodPressure == 82.0\n8:         root == 0\n8:         root == 1\n7:        BloodPressure == 86.0\n8:         root == 1\n8:         root == 1\n6:       root == 0\n5:      root == 1\n3:    BloodPressure == 64.0\n4:     root == 1\n4:     Insulin == 330.0\n5:      Age == 31.0\n6:       SkinThickness == 11.0\n7:        Pregnancies == 3.0\n8:         root == 1\n8:         root == 1\n7:        Pregnancies == 1.0\n8:         root == 1\n8:         root == 1\n6:       SkinThickness == 42.0\n7:        Pregnancies == 11.0\n8:         root == 1\n8:         root == 1\n7:        root == 1\n5:      SkinThickness == 48.0\n6:       root == 0\n6:       root == 1\n"
     ]
    }
   ],
   "source": [
    "# Step 2: Fit a decision tree to the training data\n",
    "learner = DecisionTree(attribute_names)\n",
    "learner.fit(train_features, train_targets)\n",
    "\n",
    "learner.visualize() # visualize tree"
   ]
  },
  {
   "cell_type": "code",
   "execution_count": 4,
   "metadata": {},
   "outputs": [],
   "source": [
    "# Step 3: Predict labels of testing set\n",
    "predictions = learner.predict(test_features)"
   ]
  },
  {
   "cell_type": "code",
   "execution_count": 5,
   "metadata": {},
   "outputs": [
    {
     "output_type": "stream",
     "name": "stdout",
     "text": [
      "Confusion Matrix:\n[[88 15]\n [23 28]]\n\nAccuracy: 0.7532467532467533\n\nPrecision: 0.6511627906976745; Recall: 0.5490196078431373\n\nF1_Measure: 0.5957446808510639\n\n"
     ]
    }
   ],
   "source": [
    "# Step 4: Evaluate the decision tree's performance\n",
    "confusion_mat = confusion_matrix(test_targets, predictions)\n",
    "accuracy_num = accuracy(test_targets, predictions)\n",
    "precision, recall = precision_and_recall(test_targets, predictions)\n",
    "f1_measure_num = f1_measure(test_targets, predictions)\n",
    "\n",
    "print(f\"Confusion Matrix:\\n{confusion_mat}\\n\")\n",
    "print(f\"Accuracy: {accuracy_num}\\n\")\n",
    "print(f\"Precision: {precision}; Recall: {recall}\\n\")\n",
    "print(f\"F1_Measure: {f1_measure_num}\\n\")"
   ]
  }
 ]
}